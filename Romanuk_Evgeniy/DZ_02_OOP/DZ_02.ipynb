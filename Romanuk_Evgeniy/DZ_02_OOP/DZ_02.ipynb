{
 "cells": [
  {
   "cell_type": "markdown",
   "id": "5f3e2f0a-0f52-4a4d-b24d-7b8e4d4bea97",
   "metadata": {},
   "source": [
    "<h1>Группа DS_07_P_online\n",
    "\n",
    "<h2>Cтудента ГГТУ им. П.О. Сухого, Романюка Е.И. гр. ИП-31.\n",
    "\n",
    "<h3>Домашнее задание номер 3. Введение в ООП</h3>\n",
    "\n",
    "<p><b>Цель</b>: знакомство с ООП.\n",
    "\n",
    "<b>Задание</b>:\n",
    "\n",
    "Есть Алфавит, характеристиками которого являются: \n",
    "1. Язык\n",
    "2. Список букв\n",
    "\n",
    "Для Алфавита можно: \n",
    "1. Напечатать все буквы алфавита\n",
    "2. Посчитать количество букв\n",
    "\n",
    "Так же есть Английский алфавит, который обладает следующими свойствами: \n",
    "1. Язык\n",
    "2. Список букв\n",
    "3. Количество букв\n",
    "\n",
    "Для Английского алфавита можно: \n",
    "1. Посчитать количество букв\n",
    "2. Определить, относится ли буква к английскому алфавиту\n",
    "3. Получить пример текста на английском языке\n",
    "\n",
    "\n",
    "Класс Alphabet\n",
    "1. Создайте класс Alphabet\n",
    "2. Создайте метод __init__(), внутри которого будут определены два динамических свойства: 1) lang - язык и 2) letters - список букв. Начальные значения свойств берутся из входных параметров метода.\n",
    "3. Создайте метод print(), который выведет в консоль буквы алфавита\n",
    "4. Создайте метод letters_num(), который вернет количество букв в алфавите\n",
    "\n",
    "Класс EngAlphabet\n",
    "1. Создайте класс EngAlphabet путем наследования от класса Alphabet\n",
    "2. Создайте метод __init__(), внутри которого будет вызываться родительский метод __init__(). В качестве параметров ему будут передаваться обозначение языка(например, 'En') и строка, состоящая из всех букв алфавита(можно воспользоваться свойством ascii_uppercase из модуля string).\n",
    "3. Добавьте приватное статическое свойство __letters_num, которое будет хранить количество букв в алфавите.\n",
    "4. Создайте метод is_en_letter(), который будет принимать букву в качестве параметра и определять, относится ли эта буква к английскому алфавиту.\n",
    "5. Переопределите метод letters_num() - пусть в текущем классе классе он будет возвращать значение свойства __letters_num.\n",
    "6. Создайте статический метод example(), который будет возвращать пример текста на английском языке.\n",
    "\n",
    "\n",
    "Тесты:\n",
    "1. Создайте объект класса EngAlphabet\n",
    "2. Напечатайте буквы алфавита для этого объекта\n",
    "3. Выведите количество букв в алфавите\n",
    "4. Проверьте, относится ли буква F к английскому алфавиту\n",
    "5. Проверьте, относится ли буква Щ к английскому алфавиту\n",
    "6. Выведите пример текста на английском языке\n",
    "\n",
    "<p><b>Листинг программного кода<b>:"
   ]
  },
  {
   "cell_type": "code",
   "execution_count": 1,
   "id": "de00029e-a00d-4036-8f9b-232a3eecc9c1",
   "metadata": {},
   "outputs": [],
   "source": [
    "class Alphabet:\n",
    "    def __init__(self, lang, letters):\n",
    "        self.lang = lang\n",
    "        self.letters = letters\n",
    "\n",
    "    def print(self):\n",
    "        print(\" \".join(self.letters))\n",
    "\n",
    "    def letters_num(self):\n",
    "        # Буквы в алфавите это пара верхнего и нижнего регистра выводить просто len, неправильно\n",
    "        return len(set(letter.lower() for letter in self.letters))\n"
   ]
  },
  {
   "cell_type": "code",
   "execution_count": 2,
   "id": "bd01ca08-fb19-4fb6-8b2a-acaba8026e39",
   "metadata": {},
   "outputs": [],
   "source": [
    "import string\n",
    "from Alphabet import Alphabet\n",
    "\n",
    "\n",
    "class EngAlphabet(Alphabet):\n",
    "    __letters_num = 26\n",
    "\n",
    "    def __init__(self):\n",
    "        super().__init__('en_EN', list(string.ascii_letters))\n",
    "\n",
    "    def is_en_letter(self, letter):\n",
    "        return letter in self.letters\n",
    "\n",
    "    def letters_num(self):\n",
    "        return self.__letters_num\n",
    "\n",
    "    @staticmethod\n",
    "    def example():\n",
    "        return \"Lorem ipsum dolor sit amet, consectetur adipiscing elit. Quisque in orci nec orci molestie maximus.\""
   ]
  },
  {
   "cell_type": "code",
   "execution_count": 3,
   "id": "60457459-3344-4955-ac9d-26e603c8ed5a",
   "metadata": {},
   "outputs": [
    {
     "name": "stdout",
     "output_type": "stream",
     "text": [
      "a b c d e f g h i j k l m n o p q r s t u v w x y z A B C D E F G H I J K L M N O P Q R S T U V W X Y Z\n",
      "26\n",
      "True\n",
      "False\n",
      "Lorem ipsum dolor sit amet, consectetur adipiscing elit. Quisque in orci nec orci molestie maximus.\n"
     ]
    }
   ],
   "source": [
    "def main():\n",
    "    from EngAlphabet import EngAlphabet\n",
    "    eng_alphabet = EngAlphabet()\n",
    "\n",
    "    # Выводим буквы алфавита\n",
    "    eng_alphabet.print()\n",
    "\n",
    "    # Получаем количество букв в алфавите\n",
    "    print(eng_alphabet.letters_num())\n",
    "\n",
    "    # Проверяем, является ли символ 'F' английской буквой\n",
    "    print(eng_alphabet.is_en_letter('F'))\n",
    "\n",
    "    # Проверяем, является ли символ 'Щ' английской буквой\n",
    "    print(eng_alphabet.is_en_letter('Щ'))\n",
    "\n",
    "    # Пример текста на английском языке\n",
    "    print(EngAlphabet.example())\n",
    "\n",
    "\n",
    "if __name__ == \"__main__\":\n",
    "    main()"
   ]
  },
  {
   "cell_type": "markdown",
   "id": "94608088-1d5c-46a5-99c9-f95f747b2983",
   "metadata": {},
   "source": [
    "<b>Вывод</b>: в ходе выполнения работы познакомился с ООП, а также принципами ООП"
   ]
  }
 ],
 "metadata": {
  "kernelspec": {
   "display_name": "Python 3 (ipykernel)",
   "language": "python",
   "name": "python3"
  },
  "language_info": {
   "codemirror_mode": {
    "name": "ipython",
    "version": 3
   },
   "file_extension": ".py",
   "mimetype": "text/x-python",
   "name": "python",
   "nbconvert_exporter": "python",
   "pygments_lexer": "ipython3",
   "version": "3.11.5"
  }
 },
 "nbformat": 4,
 "nbformat_minor": 5
}
