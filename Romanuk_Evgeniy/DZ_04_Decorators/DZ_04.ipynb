{
 "cells": [
  {
   "cell_type": "markdown",
   "id": "5f3e2f0a-0f52-4a4d-b24d-7b8e4d4bea97",
   "metadata": {},
   "source": [
    "<h1>Группа DS_07_P_online\n",
    "\n",
    "<h2>Cтудента ГГТУ им. П.О. Сухого, Романюка Е.И. гр. ИП-31.\n",
    "\n",
    "<h3>Домашнее задание номер 5. Декораторы</h3>\n",
    "\n",
    "<p><b>Цель</b>: знакомство c потоками и процессами.\n",
    "\n",
    "<b>Задание</b>:\n",
    "<p>Напишите декоратор, оптимизирующий работу декорируемой функции. Декоратор должен сохранять результат работы функции на ближайшие три запуска и вместо выполнения функции возвращать сохранённый результат. \n",
    "<p>После трёх запусков функция должна вызываться вновь, а результат работы функции — вновь кэшироваться.\n",
    "<p><b>Листинг программного кода<b>:"
   ]
  },
  {
   "cell_type": "code",
   "execution_count": 4,
   "id": "de00029e-a00d-4036-8f9b-232a3eecc9c1",
   "metadata": {},
   "outputs": [
    {
     "name": "stdout",
     "output_type": "stream",
     "text": [
      "Result of sum, 3\n",
      "Result of sum, 3\n",
      "Result of sum, 3\n",
      "Result of sum, 8\n",
      "Result of sum, 8\n",
      "Result of mult, 6\n",
      "Result of mult, 6\n",
      "Result of mult, 6\n",
      "Result of mult, 15\n",
      "Result of mult, 15\n",
      "Result of mult, 15\n",
      "Result of mult, 12\n"
     ]
    }
   ],
   "source": [
    "def cache_results_for_calls(func):\n",
    "    counter = 1\n",
    "    result = 0\n",
    "\n",
    "    def wrapper(*args):\n",
    "        nonlocal counter\n",
    "        nonlocal result\n",
    "\n",
    "        if counter == 1:\n",
    "            result = func(*args)\n",
    "            counter += 1\n",
    "            return result\n",
    "        elif counter < 3:\n",
    "            counter += 1\n",
    "            return result\n",
    "        else:\n",
    "            counter = 1\n",
    "            return result\n",
    "\n",
    "    return wrapper\n",
    "\n",
    "\n",
    "@cache_results_for_calls\n",
    "def sum_of_args(*args):\n",
    "    return f\"Result of sum, {sum(args)}\"\n",
    "\n",
    "\n",
    "@cache_results_for_calls\n",
    "def multiplication_of_args(*args):\n",
    "    result = 1\n",
    "    for arg in args:\n",
    "        result *= arg\n",
    "    return f\"Result of mult, {result}\"\n",
    "\n",
    "\n",
    "print(sum_of_args(1, 2))\n",
    "print(sum_of_args(2, 5))\n",
    "print(sum_of_args(4, 2))\n",
    "print(sum_of_args(6, 2))\n",
    "print(sum_of_args(6, 3))\n",
    "\n",
    "\n",
    "print(multiplication_of_args(2, 3))\n",
    "print(multiplication_of_args(2, 3))\n",
    "print(multiplication_of_args(5, 3))\n",
    "print(multiplication_of_args(5, 3))\n",
    "print(multiplication_of_args(4, 3))\n",
    "print(multiplication_of_args(4, 3))\n",
    "print(multiplication_of_args(4, 3))"
   ]
  },
  {
   "cell_type": "markdown",
   "id": "94608088-1d5c-46a5-99c9-f95f747b2983",
   "metadata": {},
   "source": [
    "<b>Вывод</b>: в ходе выполнения работы познакомился с декораторами"
   ]
  }
 ],
 "metadata": {
  "kernelspec": {
   "display_name": "Python 3 (ipykernel)",
   "language": "python",
   "name": "python3"
  },
  "language_info": {
   "codemirror_mode": {
    "name": "ipython",
    "version": 3
   },
   "file_extension": ".py",
   "mimetype": "text/x-python",
   "name": "python",
   "nbconvert_exporter": "python",
   "pygments_lexer": "ipython3",
   "version": "3.11.5"
  }
 },
 "nbformat": 4,
 "nbformat_minor": 5
}
